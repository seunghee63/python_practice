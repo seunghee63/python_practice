{
 "cells": [
  {
   "cell_type": "code",
   "execution_count": 2,
   "metadata": {
    "collapsed": true
   },
   "outputs": [],
   "source": [
    "# -*- coding: utf-8 -*-\n",
    "\n",
    "#튜플\n",
    "#절대 값을 바꿀 수 없음!"
   ]
  },
  {
   "cell_type": "code",
   "execution_count": 3,
   "metadata": {
    "collapsed": true
   },
   "outputs": [],
   "source": [
    "tup1 = ()\n",
    "tup2 = tuple()\n",
    "tup3 = (1,2,3)\n",
    "\n",
    "#type casting\n",
    "#tuple(list())\n",
    "#tuple([1,2,3])\n",
    "\n",
    "#immutable => 레퍼런스 아이디가 계속 같아야함.\n",
    "\n",
    "#레퍼런스 아이디를 변경하지 않는 선에서 튜플에 있는 값도 변경이 가능함.\n",
    "#append뿐이 아니라, pop, \n",
    "#list함수는 list에 대한 레퍼런스를 변경하지 않음!"
   ]
  },
  {
   "cell_type": "code",
   "execution_count": null,
   "metadata": {
    "collapsed": true
   },
   "outputs": [],
   "source": []
  },
  {
   "cell_type": "code",
   "execution_count": null,
   "metadata": {
    "collapsed": true
   },
   "outputs": [],
   "source": []
  }
 ],
 "metadata": {
  "kernelspec": {
   "display_name": "Python [conda env:anaconda]",
   "language": "python",
   "name": "conda-env-anaconda-py"
  },
  "language_info": {
   "codemirror_mode": {
    "name": "ipython",
    "version": 3
   },
   "file_extension": ".py",
   "mimetype": "text/x-python",
   "name": "python",
   "nbconvert_exporter": "python",
   "pygments_lexer": "ipython3",
   "version": "3.5.2"
  }
 },
 "nbformat": 4,
 "nbformat_minor": 1
}
