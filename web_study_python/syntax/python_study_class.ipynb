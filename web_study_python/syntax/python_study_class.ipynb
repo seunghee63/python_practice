{
 "cells": [
  {
   "cell_type": "code",
   "execution_count": 1,
   "metadata": {
    "collapsed": true
   },
   "outputs": [],
   "source": [
    "#self object만의 값"
   ]
  },
  {
   "cell_type": "code",
   "execution_count": 3,
   "metadata": {
    "collapsed": false
   },
   "outputs": [
    {
     "name": "stdout",
     "output_type": "stream",
     "text": [
      "제 이름은 홍길동입니다.\n",
      "제 번호는 01077499954입니다.\n",
      "제 나이는 20세 입니다.\n"
     ]
    }
   ],
   "source": [
    "class Person:\n",
    "    # class Person의 멤버변수\n",
    "    name = \"홍길동\"\n",
    "    number = \"01077499954\"\n",
    "    age = \"20\"\n",
    " \n",
    "    # class Person의 메소드\n",
    "    def info(self):\n",
    "        print(\"제 이름은 \" + self.name + \"입니다.\")\n",
    "        print(\"제 번호는 \" + self.number + \"입니다.\")\n",
    "        print(\"제 나이는 \" + self.age + \"세 입니다.\")\n",
    " \n",
    "if __name__ == \"__main__\":# main namespace를 의미합니다.\n",
    "    customer = Person()#Person의 객체 customer 생성\n",
    "    customer.info()#info 함수 호출\n",
    " "
   ]
  },
  {
   "cell_type": "code",
   "execution_count": 3,
   "metadata": {
    "collapsed": false
   },
   "outputs": [
    {
     "name": "stdout",
     "output_type": "stream",
     "text": [
      "제 이름은 홍길동입니다.\n",
      "제 번호는 01077499954입니다.\n",
      "제 나이는 20세 입니다.\n",
      "홍길동\n",
      "이태일\n"
     ]
    }
   ],
   "source": [
    "class Person:\n",
    "    # class Person의 멤버변수\n",
    "    # __(double underscore)\n",
    "    # __는 클래스외부에서 클래스 멤버에 접근하지 못하게 하기위함\n",
    "    __name = \"홍길동\"\n",
    "    __number = \"01077499954\"\n",
    "    __age = \"20\"\n",
    " \n",
    "    @property  #property 값을 갖고 옴\n",
    "    def name(self):\n",
    "        return self.__name\n",
    " \n",
    "    @name.setter #setter 값을 바꿔줌\n",
    "    def name(self, newName):\n",
    "        self.__name = newName\n",
    " \n",
    "    # class Person의 메소드\n",
    "    def info(self):\n",
    "        print(\"제 이름은 \" + self.__name + \"입니다.\")\n",
    "        print(\"제 번호는 \" + self.__number + \"입니다.\")\n",
    "        print(\"제 나이는 \" + self.__age + \"세 입니다.\")\n",
    " \n",
    "if __name__ == \"__main__\":# main namespace를 의미합니다.\n",
    "    customer = Person()#Person의 객체 customer 생성\n",
    "    customer.info()#info 함수 호출\n",
    "    print(customer.name)\n",
    "    customer.name=\"이태일\"\n",
    "    print(customer.name)\n",
    "    \n",
    "#    __gkgk__ : 매직메소드"
   ]
  },
  {
   "cell_type": "code",
   "execution_count": 4,
   "metadata": {
    "collapsed": false
   },
   "outputs": [
    {
     "name": "stdout",
     "output_type": "stream",
     "text": [
      "홍길동\n",
      "양승희\n"
     ]
    }
   ],
   "source": [
    "class Person : \n",
    "    def __init__(self, name):\n",
    "        self.__name = name\n",
    "    \n",
    "    #def setname(self, newName):\n",
    "     #   self.name = newName\n",
    "    \n",
    "    @property\n",
    "    def name(self):\n",
    "        return self.__name\n",
    " \n",
    "    @name.setter\n",
    "    def name(self, newName): \n",
    "        self.__name = newName\n",
    "    \n",
    "if __name__ == \"__main__\":\n",
    "    p1 = Person(\"양승희\")\n",
    "    p2 = Person(\"양승희\")\n",
    "    p1.name=\"홍길동\"\n",
    "    \n",
    "    print (p1.name)\n",
    "    print (p2.name)\n",
    "    \n"
   ]
  },
  {
   "cell_type": "code",
   "execution_count": 30,
   "metadata": {
    "collapsed": false
   },
   "outputs": [
    {
     "name": "stdout",
     "output_type": "stream",
     "text": [
      "1\n",
      "1\n",
      "2\n",
      "3\n",
      "5\n",
      "8\n",
      "13\n",
      "21\n",
      "34\n",
      "55\n"
     ]
    }
   ],
   "source": [
    "#이터레이터\n",
    "\n",
    "#매직메소드\n",
    "#__iter__\n",
    "#__next__\n",
    "\n",
    "class Fibo :\n",
    "    def __init__(self) : \n",
    "        self.prv = 0\n",
    "        self.cur = 1\n",
    "    \n",
    "    def __iter__(self):\n",
    "        return self\n",
    "    \n",
    "    def __next__(self):\n",
    "        self.cur, self.prv = self.cur + self.prv , self.cur\n",
    "        return self.prv\n",
    "    \n",
    "f = Fibo()\n",
    "for i in range(10):\n",
    "    print(next(f))"
   ]
  },
  {
   "cell_type": "code",
   "execution_count": 31,
   "metadata": {
    "collapsed": false
   },
   "outputs": [
    {
     "name": "stdout",
     "output_type": "stream",
     "text": [
      "1\n",
      "1\n",
      "2\n",
      "3\n",
      "5\n",
      "8\n",
      "13\n",
      "21\n",
      "34\n",
      "55\n"
     ]
    }
   ],
   "source": [
    "#yield 반환값. yield를 만나면 ajacna => 제너레이터. 리터레이터화가됨.(셀수있는집합)\n",
    "\n",
    "def fib():\n",
    "    prv = 0\n",
    "    cur = 1\n",
    "    \n",
    "    while 1:\n",
    "        yield cur\n",
    "        cur, prv = cur+prv, cur\n",
    "        \n",
    "f = fib()\n",
    "for i in range(10):\n",
    "    print(next(f))\n",
    "    \n",
    "#따로 next를 정의 해 주지 않아도 됨"
   ]
  },
  {
   "cell_type": "code",
   "execution_count": null,
   "metadata": {
    "collapsed": true
   },
   "outputs": [],
   "source": [
    "#클래스"
   ]
  }
 ],
 "metadata": {
  "anaconda-cloud": {},
  "kernelspec": {
   "display_name": "Python [conda env:anaconda]",
   "language": "python",
   "name": "conda-env-anaconda-py"
  },
  "language_info": {
   "codemirror_mode": {
    "name": "ipython",
    "version": 3
   },
   "file_extension": ".py",
   "mimetype": "text/x-python",
   "name": "python",
   "nbconvert_exporter": "python",
   "pygments_lexer": "ipython3",
   "version": "3.5.2"
  }
 },
 "nbformat": 4,
 "nbformat_minor": 1
}
