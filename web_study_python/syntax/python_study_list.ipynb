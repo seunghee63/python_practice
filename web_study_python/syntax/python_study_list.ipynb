{
 "cells": [
  {
   "cell_type": "code",
   "execution_count": null,
   "metadata": {
    "collapsed": true
   },
   "outputs": [],
   "source": [
    "# -*- coding: utf-8 -*-\n",
    "\n",
    "#리스트\n",
    "#리스트와 문자열 거의 비슷하지만\n",
    "#리스트는 자료형에 구애받지 않는다는 점이 다름!"
   ]
  },
  {
   "cell_type": "code",
   "execution_count": 17,
   "metadata": {
    "collapsed": false
   },
   "outputs": [],
   "source": [
    "#리스트 생성 및 초기화\n",
    "\n",
    "#동적으로 데이터 삽입가능\n",
    "empty_list = []\n",
    "empty_list = list()\n",
    "\n",
    "\n",
    "#리스트 생성 및 초기화\n",
    "a = [1,2,3,4,5]\n",
    "b = [\"a\", \"b\", \"c\"]\n",
    "c = [\"a\", 1, \"b\", 2]\n",
    "d = [a, b, c]\n",
    "#[[1, 2, 3, 4, 5], ['a', 'b', 'c'], ['a', 1, 'b', 2]]"
   ]
  },
  {
   "cell_type": "code",
   "execution_count": 18,
   "metadata": {
    "collapsed": false
   },
   "outputs": [
    {
     "name": "stdout",
     "output_type": "stream",
     "text": [
      "1\n",
      "[1, 2, 3, 4, 5]\n",
      "5\n",
      "4\n",
      "3\n"
     ]
    }
   ],
   "source": [
    "#리스트 요소 접근\n",
    "\n",
    "#파이썬 이터러블 객체-> 문자열, 리스트.. 의 공통점 : 인덱싱,슬라이싱 가능\n",
    "#a[::2] #뒤에 2는 step!\n",
    "\n",
    "a = [1,2,3,4,5]\n",
    "\n",
    "print(a[0])\n",
    "#1\n",
    "\n",
    "#a[시작:끝:step],디폴트값[맨처음, 맨끝, 1]\n",
    "print(a[::])\n",
    "#[1,2,3,4,5]\n",
    "\n",
    "#마이너스는 리스트의 뒤에서부터 접근.\n",
    "print(a[-1])\n",
    "#5\n",
    "print(a[-2])\n",
    "#4\n",
    "print(a[-3])\n",
    "#3\n"
   ]
  },
  {
   "cell_type": "code",
   "execution_count": 69,
   "metadata": {
    "collapsed": false
   },
   "outputs": [
    {
     "name": "stdout",
     "output_type": "stream",
     "text": [
      "[5, 4, 3, 2, 1]\n",
      "[0, 1, 2, 3, 4, 5, 6, 7, 8, 9]\n",
      "1')  [9, 8, 7, 6, 5, 4, 3, 2, 1, 0]\n",
      "1 )  [0, 1, 2, 3, 4, 5, 6, 7, 8, 9]\n",
      "2')  [9, 8]\n",
      "2')  [7, 8]\n",
      "3 )  [1, 0]\n",
      "4 )  [4]\n"
     ]
    }
   ],
   "source": [
    "#-1\n",
    "a = [1,2,3,4,5]\n",
    "arr = [1,2,3,4,5]\n",
    "\n",
    "for i in a:\n",
    "    arr[-i] = a[i-1]\n",
    "    \n",
    "print(arr)\n",
    "\n",
    "arr = list(range(10))\n",
    "print(arr)\n",
    "#[0,1,2,3,4,5,6,7,8,9]\n",
    "\n",
    "#a[시작:끝:step]\n",
    "\n",
    "arr = list(range(10))\n",
    "print(arr[::-1])\n",
    "#[9, 8, 7, 6, 5, 4, 3, 2, 1, 0]\n",
    "arr = list(range(10))\n",
    "print(arr[::1])\n",
    "#[0, 1, 2, 3, 4, 5, 6, 7, 8, 9]\n",
    "\n",
    "arr = list(range(10))\n",
    "print(arr[9:7:-1])\n",
    "#[9, 8]\n",
    "arr = list(range(10))\n",
    "print(arr[7:9:1])\n",
    "#[7, 8]\n",
    "\n",
    "arr = list(range(10))\n",
    "print(\"3 ) \", arr[1::-1])\n",
    "#[1, 0]\n",
    "\n",
    "arr = list(range(10))\n",
    "print(\"4 ) \",arr[4:3:-1])\n",
    "#[4]"
   ]
  },
  {
   "cell_type": "code",
   "execution_count": 20,
   "metadata": {
    "collapsed": false
   },
   "outputs": [
    {
     "data": {
      "text/plain": [
       "'c'"
      ]
     },
     "execution_count": 20,
     "metadata": {},
     "output_type": "execute_result"
    }
   ],
   "source": [
    "#리스트 안에 리스트가 있을경우, \n",
    "\n",
    "d[1][2]"
   ]
  },
  {
   "cell_type": "code",
   "execution_count": 40,
   "metadata": {
    "collapsed": false
   },
   "outputs": [],
   "source": [
    "#shallow copy & deep copy\n",
    "\n",
    "#shallow copy \n",
    "a0 = [1,2,3,4,5]\n",
    "b0 = a0\n",
    "b0[0] = 10\n",
    "#a0[0] == b[0] == 10\n",
    "\n",
    "#a와 b의 결과값은 같음.\n",
    "#c의 포인터와 같은 개념! 레퍼런스 아이디!\n",
    "\n",
    "#deep copy\n",
    "b0 = a0[:]\n",
    "b0[0] = 10\n",
    "#a0[0] != b[0]\n"
   ]
  },
  {
   "cell_type": "code",
   "execution_count": 43,
   "metadata": {
    "collapsed": false
   },
   "outputs": [],
   "source": [
    "#리스트 함수"
   ]
  },
  {
   "cell_type": "code",
   "execution_count": 76,
   "metadata": {
    "collapsed": false
   },
   "outputs": [],
   "source": [
    "#append\n",
    "\n",
    "a = [1,2,3,4,5]\n",
    "a.append(1)\n",
    "#[1,2,3,4,5,1]\n",
    "\n",
    "a = [1,2,3,4,5]\n",
    "a.append([1])\n",
    "#[1,2,3,4,5,[1]]"
   ]
  },
  {
   "cell_type": "code",
   "execution_count": 79,
   "metadata": {
    "collapsed": false,
    "scrolled": true
   },
   "outputs": [
    {
     "name": "stdout",
     "output_type": "stream",
     "text": [
      "[1, 2, 3, 4, 5, [4, 4, 5]]\n"
     ]
    }
   ],
   "source": [
    "#extend : 여러개를 한꺼번에 추가 가능\n",
    "\n",
    "a = [1,2,3,4,5]\n",
    "a.extend([0,2,3,[4,4,5]])\n",
    "#[1, 2, 3, 4, 5, 0, 2, 3, [4, 4, 5]]\n",
    "\n",
    "a = [1,2,3,4,5]\n",
    "a.extend([[4,4,5]])\n",
    "#[1, 2, 3, 4, 5, [4, 4, 5]]\n",
    "\n",
    "#+ :extend와 기능은 같으나, extend\n",
    "a = a+arr\n"
   ]
  },
  {
   "cell_type": "code",
   "execution_count": 80,
   "metadata": {
    "collapsed": false
   },
   "outputs": [
    {
     "name": "stdout",
     "output_type": "stream",
     "text": [
      "[5, 4, 3, 2, 1]\n"
     ]
    }
   ],
   "source": [
    "#reverse\n",
    "\n",
    "a = [1,2,3,4,5]\n",
    "a.reverse()\n",
    "#[5, 4, 3, 2, 1]\n",
    "\n",
    "print(a)"
   ]
  },
  {
   "cell_type": "code",
   "execution_count": 90,
   "metadata": {
    "collapsed": false
   },
   "outputs": [
    {
     "name": "stdout",
     "output_type": "stream",
     "text": [
      "[1, 2, 2, 3, 4, 5, 7, 8, 9]\n",
      "[9, 8, 7, 5, 4, 3, 2, 2, 1]\n"
     ]
    }
   ],
   "source": [
    "#sort\n",
    "\n",
    "c = [4,2,5,7,8,9,3,2,1]\n",
    "c.sort()\n",
    "#[1, 2, 2, 3, 4, 5, 7, 8, 9]\n",
    "\n",
    "c = [4,2,5,7,8,9,3,2,1]\n",
    "c.sort(reverse=True)\n",
    "#[9, 8, 7, 5, 4, 3, 2, 2, 1]"
   ]
  },
  {
   "cell_type": "code",
   "execution_count": 107,
   "metadata": {
    "collapsed": false
   },
   "outputs": [
    {
     "name": "stdout",
     "output_type": "stream",
     "text": [
      "[0, 1, 2, 3, 4, 6, 7, 8, 9]\n",
      "[0, 1, 2, 100, 3, 4, 5, 6, 7, 8, 9]\n",
      "[20, 0, 1, 2, 100, 3, 4, 5, 6, 7, 8, 9]\n",
      "[0, 2, 3, 4, 5, 6, 7, 8, 9]\n",
      "[0, 2, 3, 4, 5, 6, 7, 8]\n",
      "[0, 2, 3, 4, 5, 6, 7]\n"
     ]
    }
   ],
   "source": [
    "#remove & insert\n",
    "\n",
    "arr = list(range(10))\n",
    "\n",
    "\n",
    "#remove\n",
    "arr.remove(5)#인자는 인덱스가 아니라 값임!!\n",
    "print(arr)\n",
    "\n",
    "#insert : 원하는 위치에 자료 추가 가능 ( <-> append: 맨 뒤에 추가 )\n",
    "#자료구조 만들 때\n",
    "arr = list(range(10))\n",
    "\n",
    "arr.insert(3,100)\n",
    "print(arr)\n",
    "#[0, 1, 2, 100, 3, 4, 6, 7, 8, 9]\n",
    "\n",
    "arr.insert(0,20)\n",
    "print(arr)\n",
    "#[20, 0, 1, 2, 100, 3, 4, 6, 7, 8, 9]\n",
    "\n",
    "#pop : 인덱스 삭제\n",
    "#자료구조 만들 때\n",
    "#리스트 섞는 함수 -> 값 하나 추출\n",
    "c = list(range(10))\n",
    "\n",
    "c.pop(1) #인덱스\n",
    "print(c)\n",
    "#[0, 2, 3, 4, 5, 6, 7, 8, 9]\n",
    "\n",
    "c.pop()\n",
    "print(c)\n",
    "#[0, 2, 3, 4, 5, 6, 7, 8]\n",
    "\n",
    "c.pop(-1)\n",
    "print(c)\n",
    "#[0, 2, 3, 4, 5, 6, 7]"
   ]
  },
  {
   "cell_type": "code",
   "execution_count": 102,
   "metadata": {
    "collapsed": false
   },
   "outputs": [
    {
     "name": "stdout",
     "output_type": "stream",
     "text": [
      "[0, 1, 2, 3, 4, 6, 7, 8, 9]\n"
     ]
    }
   ],
   "source": [
    "#remove\n",
    "\n",
    "arr = list(range(10))\n",
    "arr.remove(5)#인자는 인덱스가 아니라 값임!!\n",
    "#[0, 1, 2, 3, 4, 6, 7, 8, 9]\n",
    "print(arr)"
   ]
  },
  {
   "cell_type": "code",
   "execution_count": 100,
   "metadata": {
    "collapsed": false
   },
   "outputs": [],
   "source": [
    "#arr.remove(5)#인자는 인덱스가 아니라 값임!!\n",
    "#print(arr)"
   ]
  }
 ],
 "metadata": {
  "anaconda-cloud": {},
  "kernelspec": {
   "display_name": "Python [conda env:anaconda]",
   "language": "python",
   "name": "conda-env-anaconda-py"
  },
  "language_info": {
   "codemirror_mode": {
    "name": "ipython",
    "version": 3
   },
   "file_extension": ".py",
   "mimetype": "text/x-python",
   "name": "python",
   "nbconvert_exporter": "python",
   "pygments_lexer": "ipython3",
   "version": "3.5.2"
  }
 },
 "nbformat": 4,
 "nbformat_minor": 1
}
