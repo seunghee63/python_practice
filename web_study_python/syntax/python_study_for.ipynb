{
 "cells": [
  {
   "cell_type": "code",
   "execution_count": 31,
   "metadata": {
    "collapsed": true
   },
   "outputs": [],
   "source": [
    "# -*- coding: utf-8 -*-\n",
    "\n",
    "# 반복문 for "
   ]
  },
  {
   "cell_type": "code",
   "execution_count": 32,
   "metadata": {
    "collapsed": true
   },
   "outputs": [],
   "source": [
    "#시퀀스 자료형 : 쪼갤 수 있음\n",
    "#이터레이션 : 반복문을 이용하여 시퀀스의 요소 접근(하는것을 이터레이팅)\n",
    "\n",
    "#range(시작,끝,step)\n",
    "#끝을 10이라고 하면, 실제로는 9까지만 접근함\n",
    "\n",
    "#for 임시저장할변수 in range();\n",
    "#in 다음에는 리터레이션 변수가 올 수 있음! range()는 파이썬에서 제공하는 이터레이션 함수. "
   ]
  },
  {
   "cell_type": "code",
   "execution_count": 33,
   "metadata": {
    "collapsed": false
   },
   "outputs": [
    {
     "name": "stdout",
     "output_type": "stream",
     "text": [
      "사과\n",
      "딸기\n",
      "냠냠냠\n"
     ]
    }
   ],
   "source": [
    "myList =[\"사과\", \"딸기\", \"냠냠냠\"]\n",
    "\n",
    "for each in myList:\n",
    "    print(each)"
   ]
  },
  {
   "cell_type": "code",
   "execution_count": 34,
   "metadata": {
    "collapsed": false
   },
   "outputs": [
    {
     "name": "stdout",
     "output_type": "stream",
     "text": [
      "APPLE\n",
      "BANANA\n",
      "MANGO\n",
      "MELLON\n"
     ]
    }
   ],
   "source": [
    "myList =[\"apple\", \"banana\", \"mango\",\"mellon\"]\n",
    "new = myList[:]\n",
    "\n",
    "for each in myList:\n",
    "    each = each.upper()\n",
    "    print(each)"
   ]
  },
  {
   "cell_type": "code",
   "execution_count": 35,
   "metadata": {
    "collapsed": false
   },
   "outputs": [
    {
     "name": "stdout",
     "output_type": "stream",
     "text": [
      "10\n",
      "9\n",
      "8\n",
      "7\n",
      "6\n",
      "5\n",
      "4\n",
      "3\n",
      "2\n",
      "1\n"
     ]
    }
   ],
   "source": [
    "for i in range(10,0,-1):\n",
    "    print(i)"
   ]
  },
  {
   "cell_type": "code",
   "execution_count": 36,
   "metadata": {
    "collapsed": false
   },
   "outputs": [
    {
     "name": "stdout",
     "output_type": "stream",
     "text": [
      "1*1=1\n",
      "1 * 1 = 1\n",
      "1*2=2\n",
      "1 * 2 = 2\n",
      "1*3=3\n",
      "1 * 3 = 3\n",
      "1*4=4\n",
      "1 * 4 = 4\n",
      "1*5=5\n",
      "1 * 5 = 5\n",
      "1*6=6\n",
      "1 * 6 = 6\n",
      "1*7=7\n",
      "1 * 7 = 7\n",
      "1*8=8\n",
      "1 * 8 = 8\n",
      "1*9=9\n",
      "1 * 9 = 9\n",
      "\n",
      "2*1=2\n",
      "2 * 1 = 2\n",
      "2*2=4\n",
      "2 * 2 = 4\n",
      "2*3=6\n",
      "2 * 3 = 6\n",
      "2*4=8\n",
      "2 * 4 = 8\n",
      "2*5=10\n",
      "2 * 5 = 10\n",
      "2*6=12\n",
      "2 * 6 = 12\n",
      "2*7=14\n",
      "2 * 7 = 14\n",
      "2*8=16\n",
      "2 * 8 = 16\n",
      "2*9=18\n",
      "2 * 9 = 18\n",
      "\n",
      "3*1=3\n",
      "3 * 1 = 3\n",
      "3*2=6\n",
      "3 * 2 = 6\n",
      "3*3=9\n",
      "3 * 3 = 9\n",
      "3*4=12\n",
      "3 * 4 = 12\n",
      "3*5=15\n",
      "3 * 5 = 15\n",
      "3*6=18\n",
      "3 * 6 = 18\n",
      "3*7=21\n",
      "3 * 7 = 21\n",
      "3*8=24\n",
      "3 * 8 = 24\n",
      "3*9=27\n",
      "3 * 9 = 27\n",
      "\n",
      "4*1=4\n",
      "4 * 1 = 4\n",
      "4*2=8\n",
      "4 * 2 = 8\n",
      "4*3=12\n",
      "4 * 3 = 12\n",
      "4*4=16\n",
      "4 * 4 = 16\n",
      "4*5=20\n",
      "4 * 5 = 20\n",
      "4*6=24\n",
      "4 * 6 = 24\n",
      "4*7=28\n",
      "4 * 7 = 28\n",
      "4*8=32\n",
      "4 * 8 = 32\n",
      "4*9=36\n",
      "4 * 9 = 36\n",
      "\n",
      "5*1=5\n",
      "5 * 1 = 5\n",
      "5*2=10\n",
      "5 * 2 = 10\n",
      "5*3=15\n",
      "5 * 3 = 15\n",
      "5*4=20\n",
      "5 * 4 = 20\n",
      "5*5=25\n",
      "5 * 5 = 25\n",
      "5*6=30\n",
      "5 * 6 = 30\n",
      "5*7=35\n",
      "5 * 7 = 35\n",
      "5*8=40\n",
      "5 * 8 = 40\n",
      "5*9=45\n",
      "5 * 9 = 45\n",
      "\n",
      "6*1=6\n",
      "6 * 1 = 6\n",
      "6*2=12\n",
      "6 * 2 = 12\n",
      "6*3=18\n",
      "6 * 3 = 18\n",
      "6*4=24\n",
      "6 * 4 = 24\n",
      "6*5=30\n",
      "6 * 5 = 30\n",
      "6*6=36\n",
      "6 * 6 = 36\n",
      "6*7=42\n",
      "6 * 7 = 42\n",
      "6*8=48\n",
      "6 * 8 = 48\n",
      "6*9=54\n",
      "6 * 9 = 54\n",
      "\n",
      "7*1=7\n",
      "7 * 1 = 7\n",
      "7*2=14\n",
      "7 * 2 = 14\n",
      "7*3=21\n",
      "7 * 3 = 21\n",
      "7*4=28\n",
      "7 * 4 = 28\n",
      "7*5=35\n",
      "7 * 5 = 35\n",
      "7*6=42\n",
      "7 * 6 = 42\n",
      "7*7=49\n",
      "7 * 7 = 49\n",
      "7*8=56\n",
      "7 * 8 = 56\n",
      "7*9=63\n",
      "7 * 9 = 63\n",
      "\n",
      "8*1=8\n",
      "8 * 1 = 8\n",
      "8*2=16\n",
      "8 * 2 = 16\n",
      "8*3=24\n",
      "8 * 3 = 24\n",
      "8*4=32\n",
      "8 * 4 = 32\n",
      "8*5=40\n",
      "8 * 5 = 40\n",
      "8*6=48\n",
      "8 * 6 = 48\n",
      "8*7=56\n",
      "8 * 7 = 56\n",
      "8*8=64\n",
      "8 * 8 = 64\n",
      "8*9=72\n",
      "8 * 9 = 72\n",
      "\n",
      "9*1=9\n",
      "9 * 1 = 9\n",
      "9*2=18\n",
      "9 * 2 = 18\n",
      "9*3=27\n",
      "9 * 3 = 27\n",
      "9*4=36\n",
      "9 * 4 = 36\n",
      "9*5=45\n",
      "9 * 5 = 45\n",
      "9*6=54\n",
      "9 * 6 = 54\n",
      "9*7=63\n",
      "9 * 7 = 63\n",
      "9*8=72\n",
      "9 * 8 = 72\n",
      "9*9=81\n",
      "9 * 9 = 81\n",
      "\n"
     ]
    }
   ],
   "source": [
    "for i in range(1,10,1):\n",
    "    for j in range(1,10,1):\n",
    "        #print(i,\"*\",j,\"=\", j*i)\n",
    "        #세번째 인자는 튜플!\n",
    "        print(str(i) + \"*\" + str(j) + \"=\" + str(i*j))\n",
    "        print(\"%d * %d = %d\"%(i,j,i*j))\n",
    "    print()\n",
    "    #print(,end='마지막에 넣고싶은 것')"
   ]
  },
  {
   "cell_type": "code",
   "execution_count": 37,
   "metadata": {
    "collapsed": false,
    "scrolled": true
   },
   "outputs": [
    {
     "name": "stdout",
     "output_type": "stream",
     "text": [
      "[0, 1, 2, 3, 4, 5, 6, 7, 8, 9, 10, 11, 12, 13, 14, 15, 16, 17, 18, 19, 20, 21, 22, 23, 24, 25, 26, 27, 28, 29, 30, 31, 32, 33, 34, 35, 36, 37, 38, 39, 40, 41, 42, 43, 44, 45, 46, 47, 48, 49, 50, 51, 52, 53, 54, 55, 56, 57, 58, 59, 60, 61, 62, 63, 64, 65, 66, 67, 68, 69, 70, 71, 72, 73, 74, 75, 76, 77, 78, 79, 80, 81, 82, 83, 84, 85, 86, 87, 88, 89, 90, 91, 92, 93, 94, 95, 96, 97, 98, 99]\n",
      "[0, 0, 0, 0, 0, 0, 0, 0, 0, 0, 0, 0, 0, 0, 0, 0, 0, 0, 0, 0, 0, 0, 0, 0, 0, 0, 0, 0, 0, 0, 0, 0, 0, 0, 0, 0, 0, 0, 0, 0, 0, 0, 0, 0, 0, 0, 0, 0, 0, 0, 0, 0, 0, 0, 0, 0, 0, 0, 0, 0, 0, 0, 0, 0, 0, 0, 0, 0, 0, 0, 0, 0, 0, 0, 0, 0, 0, 0, 0, 0, 0, 0, 0, 0, 0, 0, 0, 0, 0, 0, 0, 0, 0, 0, 0, 0, 0, 0, 0, 0]\n"
     ]
    }
   ],
   "source": [
    "#conprohentiosn\n",
    "\n",
    "nList = [i for i in range(100)]\n",
    "print(nList)\n",
    "\n",
    "List = [0 for _ in range(100)]\n",
    "print(List)"
   ]
  },
  {
   "cell_type": "code",
   "execution_count": 38,
   "metadata": {
    "collapsed": false
   },
   "outputs": [
    {
     "name": "stdout",
     "output_type": "stream",
     "text": [
      "apple\n",
      "app\n",
      "agile\n",
      "aside\n",
      "appendix\n",
      "ace\n",
      "append\n",
      "attension\n",
      "age\n",
      "['apple', 'app', 'agile', 'aside', 'appendix', 'ace', 'append', 'attension', 'age']\n"
     ]
    }
   ],
   "source": [
    "wordList1 = [\"apple\", \"app\", \"agile\", \"aside\", \"appendix\", \"ace\", \"append\", \"attention\" ]\n",
    "wordList2 = [\"duck\", \"cat\", \"pizza\", \"chicken\", \"elephant\", \"mouse\",\"fence\" ]\n",
    "\n",
    "wordList = ['apple', 'app', 'agile', 'aside', 'appendix', 'ace', 'append', 'attension', 'age', 'duck', 'cat', 'pizza', 'chicken', 'elephant', 'mouse', 'fence']\n",
    "\n",
    "#origin\n",
    "for each in wordList:\n",
    "    if(each.startswith(\"a\")):\n",
    "        print(each)\n",
    "\n",
    "myList = [each for each in wordList if each.startswith('a')]\n",
    "print(myList)\n",
    "    "
   ]
  },
  {
   "cell_type": "code",
   "execution_count": 40,
   "metadata": {
    "collapsed": false
   },
   "outputs": [
    {
     "name": "stdout",
     "output_type": "stream",
     "text": [
      "[1, 3, 5, 7, 9, 11, 13, 15, 17, 19, 21, 23, 25, 27, 29, 31, 33, 35, 37, 39, 41, 43, 45, 47, 49, 51, 53, 55, 57, 59, 61, 63, 65, 67, 69, 71, 73, 75, 77, 79, 81, 83, 85, 87, 89, 91, 93, 95, 97, 99]\n"
     ]
    }
   ],
   "source": [
    "myList = [i for i in range(1,101) if((i%2)==1)]\n",
    "print(myList)"
   ]
  },
  {
   "cell_type": "code",
   "execution_count": 41,
   "metadata": {
    "collapsed": false
   },
   "outputs": [
    {
     "name": "stdout",
     "output_type": "stream",
     "text": [
      "[1, 3, 5, 7, 9, 11, 13, 15, 17, 19, 21, 23, 25, 27, 29, 31, 33, 35, 37, 39, 41, 43, 45, 47, 49, 51, 53, 55, 57, 59, 61, 63, 65, 67, 69, 71, 73, 75, 77, 79, 81, 83, 85, 87, 89, 91, 93, 95, 97, 99]\n"
     ]
    }
   ],
   "source": [
    "myList = [i for i in range(1,101,2)]\n",
    "print(myList)"
   ]
  },
  {
   "cell_type": "code",
   "execution_count": null,
   "metadata": {
    "collapsed": true
   },
   "outputs": [],
   "source": []
  }
 ],
 "metadata": {
  "anaconda-cloud": {},
  "kernelspec": {
   "display_name": "Python [conda env:anaconda]",
   "language": "python",
   "name": "conda-env-anaconda-py"
  },
  "language_info": {
   "codemirror_mode": {
    "name": "ipython",
    "version": 3
   },
   "file_extension": ".py",
   "mimetype": "text/x-python",
   "name": "python",
   "nbconvert_exporter": "python",
   "pygments_lexer": "ipython3",
   "version": "3.5.2"
  }
 },
 "nbformat": 4,
 "nbformat_minor": 1
}
