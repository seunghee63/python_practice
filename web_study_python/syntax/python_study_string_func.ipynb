{
 "cells": [
  {
   "cell_type": "code",
   "execution_count": 5,
   "metadata": {
    "collapsed": true
   },
   "outputs": [],
   "source": [
    "# -*- coding: utf-8 -*-"
   ]
  },
  {
   "cell_type": "code",
   "execution_count": 6,
   "metadata": {
    "collapsed": true
   },
   "outputs": [],
   "source": [
    "a = \"Hello!\"\n",
    "b = \"Nice to meet you\""
   ]
  },
  {
   "cell_type": "code",
   "execution_count": 17,
   "metadata": {
    "collapsed": false
   },
   "outputs": [
    {
     "data": {
      "text/plain": [
       "7"
      ]
     },
     "execution_count": 17,
     "metadata": {},
     "output_type": "execute_result"
    }
   ],
   "source": [
    "#find\n",
    "#리턴값 : 처음문자열이 나온 위치\n",
    "#없을 경우 : -1\n",
    "\n",
    "a = \"Hello! World\"\n",
    "a.find(\"a\")\n",
    "#-1\n",
    "\n",
    "b = \"Hello!\"\n",
    "a.find(b)\n",
    "#0\n",
    "\n",
    "c = \"World\"\n",
    "a.find(c)\n",
    "#7"
   ]
  },
  {
   "cell_type": "code",
   "execution_count": 14,
   "metadata": {
    "collapsed": false
   },
   "outputs": [
    {
     "data": {
      "text/plain": [
       "'문자열'"
      ]
     },
     "execution_count": 14,
     "metadata": {},
     "output_type": "execute_result"
    }
   ],
   "source": [
    "#join : 문자열 이터레블 객체에 사용\n",
    "\n",
    "c = \"HELLO!\"\n",
    "\" \".join(c)\n",
    "#c = \"H E L L O !\"\n",
    "\n",
    "d = \"문자열\"\n",
    "\"_ \".join(d)\n",
    "#d = \"문_ 자_ 열\"\n",
    "\n",
    "e = \"1\"\n",
    "\"ㅎ\".join(e)\n",
    "#e = \"1\"\n",
    "\n",
    "\n",
    "#많이 사용되지는 않음. 사용될 경우는.. 파일 경로 같은 경우?"
   ]
  },
  {
   "cell_type": "code",
   "execution_count": null,
   "metadata": {
    "collapsed": true
   },
   "outputs": [],
   "source": [
    "#upper & lower\n",
    "\n",
    "#a= a.upper\n",
    "#a= a.lower\n",
    "\n",
    "#넣어줘야 바뀜!"
   ]
  },
  {
   "cell_type": "code",
   "execution_count": 23,
   "metadata": {
    "collapsed": false
   },
   "outputs": [
    {
     "name": "stdout",
     "output_type": "stream",
     "text": [
      "I love Coffee\n"
     ]
    }
   ],
   "source": [
    "#replace\n",
    "\n",
    "a = \"HELLO!\"\n",
    "a.replace(\"H\",\"b\")\n",
    "#a 변화 없음-> 마찬가지로 바꾼 값을 저장 해 주어야 함\n",
    "a=a.replace(\"H\",\"b\")\n",
    "#a = \"bELLO!\"\n",
    "\n",
    "b = \"Ice Coffee\"\n",
    "b = b.replace(\"H\",\"ㅎㅎ\")\n",
    "#변화 없음\n",
    "b = b.replace(\"ce\",\" love\")\n",
    "#b = \"I love Coffee\"\n",
    "\n",
    "#바꾼 값을 return 해줌\n",
    "print(b)"
   ]
  },
  {
   "cell_type": "code",
   "execution_count": 7,
   "metadata": {
    "collapsed": false
   },
   "outputs": [
    {
     "data": {
      "text/plain": [
       "['안녕', '반가워', '네', '이름은', '뭐니?']"
      ]
     },
     "execution_count": 7,
     "metadata": {},
     "output_type": "execute_result"
    }
   ],
   "source": [
    "#split\n",
    "\n",
    "\"안녕 반가워 네 이름은 뭐니?\".split(\" \")\n",
    "#['안녕', '반가워', '네', '이름은', '뭐니?']\n",
    "\n",
    "\"안녕 반가워 네 이름은 뭐니?\".split()\n",
    "#['안녕', '반가워', '네', '이름은', '뭐니?']\n",
    "\n",
    "#split의 인자가 아무것도 없을 경우에는, 자동으로 공백 기준으로 분리"
   ]
  },
  {
   "cell_type": "code",
   "execution_count": 38,
   "metadata": {
    "collapsed": false
   },
   "outputs": [
    {
     "data": {
      "text/plain": [
       "0"
      ]
     },
     "execution_count": 38,
     "metadata": {},
     "output_type": "execute_result"
    }
   ],
   "source": [
    "#count\n",
    "\n",
    "\"안녕 반가워 네 이름은 뭐니?\".count(\" \")\n",
    "#4\n",
    "\"ㅎ\".count(\"   \")\n",
    "#2"
   ]
  },
  {
   "cell_type": "code",
   "execution_count": 26,
   "metadata": {
    "collapsed": false
   },
   "outputs": [
    {
     "data": {
      "text/plain": [
       "False"
      ]
     },
     "execution_count": 26,
     "metadata": {},
     "output_type": "execute_result"
    }
   ],
   "source": [
    "#startswith : 문자열이 무엇으로 시작하는지 파악하는 함수\n",
    "\n",
    "\"apple\".startswith(\"a\")\n",
    "#true\n",
    "\n",
    "\"apple\".startswith(\"ap\")\n",
    "#false\n",
    "\n",
    "\"apple\".startswith(\"p\")\n",
    "#false\n",
    "\n",
    "#return: boolean\n",
    "#제어문에서 사용"
   ]
  },
  {
   "cell_type": "code",
   "execution_count": null,
   "metadata": {
    "collapsed": true
   },
   "outputs": [],
   "source": []
  }
 ],
 "metadata": {
  "anaconda-cloud": {},
  "kernelspec": {
   "display_name": "Python [conda env:anaconda]",
   "language": "python",
   "name": "conda-env-anaconda-py"
  },
  "language_info": {
   "codemirror_mode": {
    "name": "ipython",
    "version": 3
   },
   "file_extension": ".py",
   "mimetype": "text/x-python",
   "name": "python",
   "nbconvert_exporter": "python",
   "pygments_lexer": "ipython3",
   "version": "3.5.2"
  }
 },
 "nbformat": 4,
 "nbformat_minor": 1
}
