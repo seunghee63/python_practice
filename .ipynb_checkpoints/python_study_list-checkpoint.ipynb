{
 "cells": [
  {
   "cell_type": "code",
   "execution_count": null,
   "metadata": {
    "collapsed": true
   },
   "outputs": [],
   "source": [
    "# -*- coding: utf-8 -*-\n",
    "\n",
    "#리스트\n",
    "#리스트와 문자열 거의 비슷하지만\n",
    "#리스트는 자료형에 구애받지 않는다는 점이 다름!"
   ]
  },
  {
   "cell_type": "code",
   "execution_count": 4,
   "metadata": {
    "collapsed": false
   },
   "outputs": [
    {
     "name": "stdout",
     "output_type": "stream",
     "text": [
      "[1, 2, 3, 4, 5]\n",
      "['a', 'b', 'c']\n",
      "['a', 1, 'b', 2]\n",
      "[[1, 2, 3, 4, 5], ['a', 'b', 'c'], ['a', 1, 'b', 2]]\n"
     ]
    }
   ],
   "source": [
    "#리스트 생성 및 초기화\n",
    "\n",
    "#동적으로 데이터 삽입가능\n",
    "empty_list = []\n",
    "empty_list = list()\n",
    "\n",
    "a = [1,2,3,4,5]\n",
    "b = [\"a\", \"b\", \"c\"]\n",
    "c = [\"a\", 1, \"b\", 2]\n",
    "d = [a, b, c]\n",
    "#[[1, 2, 3, 4, 5], ['a', 'b', 'c'], ['a', 1, 'b', 2]]\n",
    "\n",
    "\n"
   ]
  },
  {
   "cell_type": "code",
   "execution_count": 6,
   "metadata": {
    "collapsed": false
   },
   "outputs": [
    {
     "name": "stdout",
     "output_type": "stream",
     "text": [
      "5\n",
      "4\n",
      "3\n"
     ]
    }
   ],
   "source": [
    "#리스트 요소 접근\n",
    "\n",
    "#파이썬 이터러블 객체-> 문자열, 리스트.. 의 공통점 : 인덱싱,슬라이싱 가능\n",
    "#a[::2] #뒤에 2는 step!\n",
    "print(a[-1])\n",
    "print(a[-2])\n",
    "print(a[-3])\n",
    "\n",
    "\n",
    "#0 == -1\n",
    "#1 == -2\n",
    "#2 == -3"
   ]
  },
  {
   "cell_type": "code",
   "execution_count": 35,
   "metadata": {
    "collapsed": false
   },
   "outputs": [
    {
     "name": "stdout",
     "output_type": "stream",
     "text": [
      "[5, 4, 3, 2, 1]\n"
     ]
    },
    {
     "data": {
      "text/plain": [
       "[1, 2, 3, 4, 5]"
      ]
     },
     "execution_count": 35,
     "metadata": {},
     "output_type": "execute_result"
    }
   ],
   "source": [
    "#-1\n",
    "a = [1,2,3,4,5]\n",
    "arr = [1,2,3,4,5]\n",
    "\n",
    "for i in a:\n",
    "    arr[-i] = a[i-1]\n",
    "    \n",
    "print(arr)\n",
    "\n",
    "#a[시작:끝:step]\n",
    "arr[::-1]"
   ]
  },
  {
   "cell_type": "code",
   "execution_count": 36,
   "metadata": {
    "collapsed": false
   },
   "outputs": [
    {
     "data": {
      "text/plain": [
       "'c'"
      ]
     },
     "execution_count": 36,
     "metadata": {},
     "output_type": "execute_result"
    }
   ],
   "source": [
    "#리스트 안에 리스트가 있을경우, \n",
    "\n",
    "d[1][2]"
   ]
  },
  {
   "cell_type": "code",
   "execution_count": 40,
   "metadata": {
    "collapsed": false
   },
   "outputs": [],
   "source": [
    "#shallow copy & deep copy\n",
    "\n",
    "#shallow copy \n",
    "a0 = [1,2,3,4,5]\n",
    "b0 = a0 #\n",
    "b0[0] = 10\n",
    "#a와 b의 결과값은 같음.\n",
    "#c의 포인터와 같은 개념! 레퍼런스 아이디!\n",
    "\n",
    "#deep copy\n",
    "b0 = a0[:]\n",
    "#객체의 아이디가 아니라 값을 넘길때!!\n"
   ]
  },
  {
   "cell_type": "code",
   "execution_count": 43,
   "metadata": {
    "collapsed": false
   },
   "outputs": [],
   "source": [
    "#리스트 함수"
   ]
  },
  {
   "cell_type": "code",
   "execution_count": 44,
   "metadata": {
    "collapsed": false
   },
   "outputs": [
    {
     "name": "stdout",
     "output_type": "stream",
     "text": [
      "[1, 2, 3, 4, 5, 1, 1, 1]\n"
     ]
    }
   ],
   "source": [
    "#append\n",
    "a.append(1)\n",
    "print(a)"
   ]
  },
  {
   "cell_type": "code",
   "execution_count": 48,
   "metadata": {
    "collapsed": false
   },
   "outputs": [
    {
     "name": "stdout",
     "output_type": "stream",
     "text": [
      "[1, 2, 3, 4, 5, 1, 1, 1, [0, 2, 3], 0, 2, 3, 0, 2, 3, 0, 2, 3]\n"
     ]
    }
   ],
   "source": [
    "#extend : 여러개를 한꺼번에 추가 가능\n",
    "a.extend([0,2,3])\n",
    "print(a)\n",
    "\n",
    "#+ :extend와 기능은 같으나, extend\n",
    "a = a+arr"
   ]
  },
  {
   "cell_type": "code",
   "execution_count": 50,
   "metadata": {
    "collapsed": false
   },
   "outputs": [
    {
     "name": "stdout",
     "output_type": "stream",
     "text": [
      "[1, 2, 3, 4, 5, 1, 1, 1, [0, 2, 3], 0, 2, 3, 0, 2, 3, 0, 2, 3, 5, 4, 3, 2, 1]\n"
     ]
    }
   ],
   "source": [
    "#reverse\n",
    "\n",
    "a.reverse()\n",
    "print(a)"
   ]
  },
  {
   "cell_type": "code",
   "execution_count": 53,
   "metadata": {
    "collapsed": false
   },
   "outputs": [
    {
     "name": "stdout",
     "output_type": "stream",
     "text": [
      "[9, 8, 7, 5, 4, 3, 2, 2, 1]\n"
     ]
    }
   ],
   "source": [
    "#sort\n",
    "\n",
    "c = [4,2,5,7,8,9,3,2,1]\n",
    "c.sort\n",
    "c.sort(reverse=True) #내림차순. 디폴트 값은 False\n",
    "print(c)\n"
   ]
  },
  {
   "cell_type": "code",
   "execution_count": 63,
   "metadata": {
    "collapsed": false
   },
   "outputs": [
    {
     "name": "stdout",
     "output_type": "stream",
     "text": [
      "[4, 100, 2, 2, 1]\n",
      "[4, 100, 2, 100, 2, 1]\n",
      "[4, 2, 100, 2]\n"
     ]
    }
   ],
   "source": [
    "#remove & insert\n",
    "\n",
    "#remove\n",
    "c.remove(100)#인자는 인덱스가 아니라 값임!!\n",
    "print(c)\n",
    "\n",
    "#insert : 원하는 위치에 자료 추가 가능 ( <-> append: 맨 뒤에 추가 )\n",
    "#자료구조 만들 때\n",
    "c.insert(3,100)\n",
    "print(c)\n",
    "\n",
    "#pop : 인덱스 삭제\n",
    "#자료구조 만들 때\n",
    "#리스트 섞는 함수 -> 값 하나 추출\n",
    "c.pop(1) #인덱스\n",
    "c.pop()\n",
    "print(c)"
   ]
  },
  {
   "cell_type": "code",
   "execution_count": null,
   "metadata": {
    "collapsed": true
   },
   "outputs": [],
   "source": []
  }
 ],
 "metadata": {
  "anaconda-cloud": {},
  "kernelspec": {
   "display_name": "Python [conda env:anaconda]",
   "language": "python",
   "name": "conda-env-anaconda-py"
  },
  "language_info": {
   "codemirror_mode": {
    "name": "ipython",
    "version": 3
   },
   "file_extension": ".py",
   "mimetype": "text/x-python",
   "name": "python",
   "nbconvert_exporter": "python",
   "pygments_lexer": "ipython3",
   "version": "3.5.2"
  }
 },
 "nbformat": 4,
 "nbformat_minor": 1
}
