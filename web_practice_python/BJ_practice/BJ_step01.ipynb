{
 "cells": [
  {
   "cell_type": "code",
   "execution_count": null,
   "metadata": {
    "collapsed": true
   },
   "outputs": [],
   "source": [
    "# -*- coding: utf-8 -*-\n",
    "\n",
    "#백준 단계별 문제풀기 step1"
   ]
  },
  {
   "cell_type": "code",
   "execution_count": null,
   "metadata": {
    "collapsed": false
   },
   "outputs": [],
   "source": [
    "#2557\n",
    "#출력\n",
    "\n",
    "print(\"Hello World!\")"
   ]
  },
  {
   "cell_type": "code",
   "execution_count": null,
   "metadata": {
    "collapsed": false
   },
   "outputs": [],
   "source": [
    "#1000\n",
    "#입력과 출력 => 두 수의 합 출력\n",
    "\n",
    "a, b = input().split()\n",
    "\n",
    "print(int(a)+int(b))"
   ]
  },
  {
   "cell_type": "code",
   "execution_count": null,
   "metadata": {
    "collapsed": false
   },
   "outputs": [],
   "source": [
    "#1001\n",
    "#입력과 출력 => 두 수의 차 출력\n",
    "\n",
    "a, b = input().split()\n",
    "\n",
    "print(int(a)-int(b))"
   ]
  },
  {
   "cell_type": "code",
   "execution_count": null,
   "metadata": {
    "collapsed": false
   },
   "outputs": [],
   "source": [
    "#7287\n",
    "print(\"13\\n0603yang\")"
   ]
  },
  {
   "cell_type": "code",
   "execution_count": null,
   "metadata": {
    "collapsed": false
   },
   "outputs": [],
   "source": [
    "#10172\n",
    "#기호 출력\n",
    "\n",
    "print(\"\"\"|\\_/|\n",
    "|q p|   /}\n",
    "( 0 )\"\\\"\"\\\\\n",
    "|\"^\"`    |\n",
    "||_/=\\\\\\\\__|\\n\"\"\") \n",
    "\n",
    "#중간에 \"\"\"가 이미 하나 있기 때문에 문자열이 저기까지 인 것으로 인지함. 따옴표가 아니라는 것을 인식시키 위해 셋 중 하나의 큰따음표 앞에 \\를 붙여 문자로 취급\n",
    "#역슬레시자체를 문자로 출력하고 싶을때는 \\\\(두개!)\n",
    "\n",
    "print(\"\"\"|\\_/|\n",
    "|q p|   /}\n",
    "( 0 )\\\"\"\"\\\\\n",
    "|\"^\"`    |\n",
    "||_/=\\\\\\\\__|\"\"\")"
   ]
  },
  {
   "cell_type": "code",
   "execution_count": null,
   "metadata": {
    "collapsed": false
   },
   "outputs": [],
   "source": [
    "#10718\n",
    "#문자열 출력\n",
    "\n",
    "print(\"\"\"강한친구 대한육군\n",
    "강한친구 대한육군\"\"\")"
   ]
  },
  {
   "cell_type": "code",
   "execution_count": null,
   "metadata": {
    "collapsed": false,
    "scrolled": false
   },
   "outputs": [],
   "source": [
    "#11718\n",
    "#그대로 출력\n",
    "\n",
    "#a = input()\n",
    "#b = input()\n",
    "\n",
    "while True:\n",
    "    try:\n",
    "        print(input())\n",
    "    except:\n",
    "        break\n",
    "    "
   ]
  },
  {
   "cell_type": "code",
   "execution_count": null,
   "metadata": {
    "collapsed": true
   },
   "outputs": [],
   "source": [
    "#11719\n",
    "#그대로 출력\n",
    "\n",
    "while True:\n",
    "    try:\n",
    "        print(input())\n",
    "    except:\n",
    "        break"
   ]
  }
 ],
 "metadata": {
  "anaconda-cloud": {},
  "kernelspec": {
   "display_name": "Python [conda env:anaconda]",
   "language": "python",
   "name": "conda-env-anaconda-py"
  },
  "language_info": {
   "codemirror_mode": {
    "name": "ipython",
    "version": 3
   },
   "file_extension": ".py",
   "mimetype": "text/x-python",
   "name": "python",
   "nbconvert_exporter": "python",
   "pygments_lexer": "ipython3",
   "version": "3.5.2"
  }
 },
 "nbformat": 4,
 "nbformat_minor": 1
}
